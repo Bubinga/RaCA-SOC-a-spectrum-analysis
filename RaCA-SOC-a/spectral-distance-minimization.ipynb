{
 "cells": [
  {
   "cell_type": "code",
   "execution_count": 1,
   "id": "181b90ef-7893-4241-bb18-faf64ad286bd",
   "metadata": {},
   "outputs": [
    {
     "ename": "ModuleNotFoundError",
     "evalue": "No module named 'generate_false_SOC_VNIR_spectra'",
     "output_type": "error",
     "traceback": [
      "\u001b[0;31m---------------------------------------------------------------------------\u001b[0m",
      "\u001b[0;31mModuleNotFoundError\u001b[0m                       Traceback (most recent call last)",
      "\u001b[0;32m/var/folders/6w/zm__23zx1fn9ljlttn9tntb40000gn/T/ipykernel_38887/2942989918.py\u001b[0m in \u001b[0;36m<module>\u001b[0;34m\u001b[0m\n\u001b[1;32m      1\u001b[0m \u001b[0;32mimport\u001b[0m \u001b[0mimport_ipynb\u001b[0m\u001b[0;34m\u001b[0m\u001b[0;34m\u001b[0m\u001b[0m\n\u001b[0;32m----> 2\u001b[0;31m \u001b[0;32mfrom\u001b[0m \u001b[0mgenerate_false_SOC_VNIR_spectra\u001b[0m \u001b[0;32mimport\u001b[0m \u001b[0;34m*\u001b[0m\u001b[0;34m\u001b[0m\u001b[0;34m\u001b[0m\u001b[0m\n\u001b[0m",
      "\u001b[0;31mModuleNotFoundError\u001b[0m: No module named 'generate_false_SOC_VNIR_spectra'"
     ]
    }
   ],
   "source": [
    "import import_ipynb\n",
    "from generate_false_SOC_VNIR_spectra import *"
   ]
  },
  {
   "cell_type": "code",
   "execution_count": 3,
   "id": "5f15aaf1-0ba7-4cc6-8680-f372d4e1558b",
   "metadata": {},
   "outputs": [
    {
     "ename": "NameError",
     "evalue": "name 'generateFalseData' is not defined",
     "output_type": "error",
     "traceback": [
      "\u001b[0;31m---------------------------------------------------------------------------\u001b[0m",
      "\u001b[0;31mNameError\u001b[0m                                 Traceback (most recent call last)",
      "\u001b[0;32m/var/folders/6w/zm__23zx1fn9ljlttn9tntb40000gn/T/ipykernel_49739/291177843.py\u001b[0m in \u001b[0;36m<module>\u001b[0;34m\u001b[0m\n\u001b[1;32m      1\u001b[0m \u001b[0;32mimport\u001b[0m \u001b[0mmatplotlib\u001b[0m\u001b[0;34m.\u001b[0m\u001b[0mpyplot\u001b[0m \u001b[0;32mas\u001b[0m \u001b[0mplt\u001b[0m\u001b[0;34m\u001b[0m\u001b[0;34m\u001b[0m\u001b[0m\n\u001b[1;32m      2\u001b[0m \u001b[0;34m\u001b[0m\u001b[0m\n\u001b[0;32m----> 3\u001b[0;31m \u001b[0mXF\u001b[0m\u001b[0;34m,\u001b[0m \u001b[0mA\u001b[0m\u001b[0;34m,\u001b[0m \u001b[0mF\u001b[0m\u001b[0;34m,\u001b[0m \u001b[0mI\u001b[0m\u001b[0;34m,\u001b[0m \u001b[0mcents\u001b[0m \u001b[0;34m=\u001b[0m \u001b[0mgenerateFalseData\u001b[0m\u001b[0;34m(\u001b[0m\u001b[0;36m100\u001b[0m\u001b[0;34m,\u001b[0m\u001b[0;36m100\u001b[0m\u001b[0;34m,\u001b[0m\u001b[0;36m3\u001b[0m\u001b[0;34m,\u001b[0m\u001b[0;36m0.02\u001b[0m\u001b[0;34m,\u001b[0m\u001b[0;36m0\u001b[0m\u001b[0;34m)\u001b[0m\u001b[0;34m\u001b[0m\u001b[0;34m\u001b[0m\u001b[0m\n\u001b[0m\u001b[1;32m      4\u001b[0m \u001b[0mplt\u001b[0m\u001b[0;34m.\u001b[0m\u001b[0mplot\u001b[0m\u001b[0;34m(\u001b[0m\u001b[0mXF\u001b[0m\u001b[0;34m,\u001b[0m \u001b[0mI\u001b[0m\u001b[0;34m.\u001b[0m\u001b[0mT\u001b[0m\u001b[0;34m)\u001b[0m\u001b[0;34m\u001b[0m\u001b[0;34m\u001b[0m\u001b[0m\n\u001b[1;32m      5\u001b[0m \u001b[0mplt\u001b[0m\u001b[0;34m.\u001b[0m\u001b[0mshow\u001b[0m\u001b[0;34m(\u001b[0m\u001b[0;34m)\u001b[0m\u001b[0;34m\u001b[0m\u001b[0;34m\u001b[0m\u001b[0m\n",
      "\u001b[0;31mNameError\u001b[0m: name 'generateFalseData' is not defined"
     ]
    }
   ],
   "source": [
    "import matplotlib.pyplot as plt\n",
    "\n",
    "XF, A, F, I, cents = generateFalseData(100,100,3,0.02,0)\n",
    "plt.plot(XF, I.T)\n",
    "plt.show()\n",
    "\n",
    "plt.plot(XF, F.T)\n",
    "plt.show()"
   ]
  },
  {
   "cell_type": "code",
   "execution_count": 171,
   "id": "4f086b56-7086-4056-9806-d4c8fd00d031",
   "metadata": {},
   "outputs": [],
   "source": [
    "def get_quantile_diff_dist(tI, q) :\n",
    "    NN = tI.shape[0]\n",
    "    diffs = np.zeros([int(NN*(NN-1)/2),tI.shape[1]])\n",
    "    \n",
    "    ind=0\n",
    "    for i in range(NN) :\n",
    "        for j in range(i) :\n",
    "            diffs[ind,:] = (tI[i,:] - tI[j,:])**2\n",
    "            ind+=1\n",
    "    \n",
    "    return np.quantile(diffs, q, axis=0)"
   ]
  },
  {
   "cell_type": "code",
   "execution_count": 176,
   "id": "e242bc0d-8ba4-4c7d-868a-2ac7ed897638",
   "metadata": {},
   "outputs": [],
   "source": [
    "vlamb95 = get_quantile_diff_dist(I,0.68)"
   ]
  },
  {
   "cell_type": "code",
   "execution_count": 167,
   "id": "d4be366d-7c66-4475-9bbe-5bc1c9283aeb",
   "metadata": {},
   "outputs": [],
   "source": [
    "def compute_loss(fi,fj,si,sj) :\n",
    "    tc = (fi-fj)**2\n",
    "    th = (tc < vlamb95).astype('float')\n",
    "    tc = np.sum(tc*th)/np.sum(th)\n",
    "    ts = (si-sj)**2\n",
    "    \n",
    "    return tc-ts\n",
    "    "
   ]
  },
  {
   "cell_type": "code",
   "execution_count": 178,
   "id": "e0217c80-35ac-416d-b15a-fc2c08b6e82e",
   "metadata": {},
   "outputs": [
    {
     "data": {
      "image/png": "[encoded data removed]",
      "text/plain": [
       "<Figure size 432x288 with 1 Axes>"
      ]
     },
     "metadata": {
      "needs_background": "light"
     },
     "output_type": "display_data"
    }
   ],
   "source": [
    "lowest_loss = float('inf')\n",
    "lowest_loss_i = 0\n",
    "lowest_loss_j = 1\n",
    "\n",
    "for i in range(I.shape[0]) :\n",
    "    for j in range(i) :\n",
    "        tfi = I[i,:]\n",
    "        tfj = I[j,:]\n",
    "        tsi = A[0,i]\n",
    "        tsj = A[0,j]\n",
    "        \n",
    "        tloss = compute_loss(tfi,tfj,tsi,tsj)\n",
    "        if tloss < lowest_loss :\n",
    "            lowest_loss = tloss\n",
    "            lowest_loss_i = i\n",
    "            lowest_loss_j = j\n",
    "            \n",
    "plt.plot(XF, I[lowest_loss_i,:],color='b')\n",
    "plt.plot(XF, I[lowest_loss_j,:],color='red')\n",
    "plt.show()"
   ]
  },
  {
   "cell_type": "code",
   "execution_count": 179,
   "id": "d2ac45b1-37a0-4e37-ab1c-14b75c7db6be",
   "metadata": {},
   "outputs": [
    {
     "name": "stdout",
     "output_type": "stream",
     "text": [
      "[3.24356292 3.48133309 8.96613543]\n"
     ]
    }
   ],
   "source": [
    "print(cents)"
   ]
  },
  {
   "cell_type": "code",
   "execution_count": 145,
   "id": "09603f2f-54c8-4560-b04d-5737a1369496",
   "metadata": {},
   "outputs": [
    {
     "name": "stdout",
     "output_type": "stream",
     "text": [
      "[0.80105658 0.00300298 0.19594044]\n",
      "[0.00185398 0.74192645 0.25621957]\n",
      "-0.638724789843804\n"
     ]
    }
   ],
   "source": [
    "print(A[:,lowest_loss_i])\n",
    "print(A[:,lowest_loss_j])\n",
    "print(lowest_loss)"
   ]
  },
  {
   "cell_type": "code",
   "execution_count": 177,
   "id": "580f78b6-59f9-4039-b77d-d730d784d215",
   "metadata": {},
   "outputs": [
    {
     "data": {
      "image/png": "[encoded data removed]",
      "text/plain": [
       "<Figure size 432x288 with 1 Axes>"
      ]
     },
     "metadata": {
      "needs_background": "light"
     },
     "output_type": "display_data"
    }
   ],
   "source": [
    "plt.plot(XF, vlamb95)\n",
    "plt.vlines(x=cents,ymin=min(vlamb95),ymax=max(vlamb95)*1.1, color='r')\n",
    "plt.show()"
   ]
  },
  {
   "cell_type": "code",
   "execution_count": null,
   "id": "b649be5a-4bed-483f-8679-f1773c2c50ee",
   "metadata": {},
   "outputs": [],
   "source": [
    "seedAs = \n",
    "seedFs = \n",
    "\n",
    "ys = "
   ]
  },
  {
   "cell_type": "code",
   "execution_count": null,
   "id": "abb573f8-4649-42b0-b7fb-7851d4e777f5",
   "metadata": {},
   "outputs": [],
   "source": [
    "class LinearMixingModel(nn.Module):\n",
    "    def __init__(self, seedF, seedA):\n",
    "        super().__init__()\n",
    "        self.fs     = nn.Parameter(torch.tensor(seedF))\n",
    "        self.alphas = nn.Parameter(torch.tensor(seedA))\n",
    "        \n",
    "    def forward(self, y):\n",
    "        Ihat = torch.matmul(torch.transpose(self.fs,0,1),self.alphas)\n",
    "        \n",
    "        # Add in a fake Lagrange multiplier to discourage abundances < 0.01 or > 0.99\n",
    "        oobs = torch.sum((-1.0 * (self.alphas < 0.01).float() + (self.alphas > 0.99).float()) * self.alphas)\n",
    "        \n",
    "        return - torch.sum((y - pred) ** 2 / 2.) * (1 + 1000*oobs)\n",
    "\n",
    "\n",
    "model = LinearMixingModel(alocomp)\n",
    "optimizer = optim.Adam(model.parameters())\n",
    "\n",
    "for epoch in range(epochs) :\n",
    "    optimizer.zero_grad()\n",
    "    loss = model(psd)\n",
    "    e = - torch.mean(loss)\n",
    "    e.backward()\n",
    "    optimizer.step()\n",
    "    \n"
   ]
  }
 ],
 "metadata": {
  "kernelspec": {
   "display_name": "Python 3 (ipykernel)",
   "language": "python",
   "name": "python3"
  },
  "language_info": {
   "codemirror_mode": {
    "name": "ipython",
    "version": 3
   },
   "file_extension": ".py",
   "mimetype": "text/x-python",
   "name": "python",
   "nbconvert_exporter": "python",
   "pygments_lexer": "ipython3",
   "version": "3.9.7"
  }
 },
 "nbformat": 4,
 "nbformat_minor": 5
}
