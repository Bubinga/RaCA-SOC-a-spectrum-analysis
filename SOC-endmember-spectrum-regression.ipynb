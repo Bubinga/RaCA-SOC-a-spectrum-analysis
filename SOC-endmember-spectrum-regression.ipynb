{
 "cells": [
  {
   "cell_type": "markdown",
   "id": "4881f637-ffef-4cac-933d-8236a9c50545",
   "metadata": {},
   "source": [
    "## Statistical Analysis\n",
    "### Getting the endmember spectrum of soil carbon"
   ]
  },
  {
   "cell_type": "code",
   "execution_count": 18,
   "id": "2a1e9aa0-2c91-4c11-9fcf-54d26df3eb9d",
   "metadata": {},
   "outputs": [],
   "source": [
    "import numpy as np"
   ]
  },
  {
   "cell_type": "markdown",
   "id": "de4ddc71-8b5e-4e2b-807a-ef283a1c91e7",
   "metadata": {},
   "source": [
    "\"I\" represented the reflectance spectra of soil from the RaCA dataset.\n",
    "\n",
    "Exercise for Evan: Implement false dataset generator for Xinyi to test."
   ]
  },
  {
   "cell_type": "code",
   "execution_count": 19,
   "id": "2608de60-e2e0-417a-a420-eb89e1ce9969",
   "metadata": {},
   "outputs": [],
   "source": [
    "MSpectra=100\n",
    "def loadRaCADataset(NPoints) :\n",
    "    return np.zeros([NPoints,MSpectra])"
   ]
  },
  {
   "cell_type": "code",
   "execution_count": 20,
   "id": "9f02ce59-cfe2-47c3-850e-88090311a5f4",
   "metadata": {},
   "outputs": [],
   "source": [
    "NPoints = 100\n",
    "KEndmembers = 10\n",
    "Idata = loadRaCADataset(NPoints)"
   ]
  },
  {
   "cell_type": "markdown",
   "id": "6bf8afc2-ad87-40fe-add8-539f16af3bdb",
   "metadata": {},
   "source": [
    "\"F\" represented the endmember pure reflectance spectra from the ASD spectrometer. "
   ]
  },
  {
   "cell_type": "code",
   "execution_count": 21,
   "id": "9cc3d3ee-61eb-43e2-b37d-5ce15a0db95b",
   "metadata": {},
   "outputs": [],
   "source": [
    "F = np.zeros([KEndmembers,MSpectra])"
   ]
  },
  {
   "cell_type": "markdown",
   "id": "5a462eed-3926-4034-b07a-c9f0081a805d",
   "metadata": {},
   "source": [
    "\"A\" represented the endmember number abundances from the ASD spectrometer."
   ]
  },
  {
   "cell_type": "code",
   "execution_count": 22,
   "id": "100c9020-caa8-4aa5-8582-ef7841e06c2f",
   "metadata": {},
   "outputs": [],
   "source": [
    "A = np.zeros([KEndmembers,NPoints])"
   ]
  },
  {
   "cell_type": "markdown",
   "id": "e2c79aa3-7046-4fe1-a81c-3ae14aac79aa",
   "metadata": {},
   "source": [
    "\"Ihat\" represented our estimates of the data given F and A."
   ]
  },
  {
   "cell_type": "code",
   "execution_count": 23,
   "id": "89ea3d7d-a9e9-4810-afb0-238cd58a9a7a",
   "metadata": {},
   "outputs": [],
   "source": [
    "def computeModel(tF, tA) :\n",
    "    return np.dot(A.T,F)\n",
    "\n",
    "Ihat = computeModel(F,A)"
   ]
  },
  {
   "cell_type": "markdown",
   "id": "d75bdc8e-1620-427e-a006-18cf302b08a4",
   "metadata": {},
   "source": [
    "\"E\" represented the error of our estimates to the RaCA data in I."
   ]
  },
  {
   "cell_type": "code",
   "execution_count": 24,
   "id": "e5668055-fbb3-4479-9c84-bc99918da7c3",
   "metadata": {},
   "outputs": [],
   "source": [
    "def computeL2Error(I,Ih) :\n",
    "    return np.sum(np.dot((I-Ih),(I-Ih).T))\n",
    "\n",
    "E = computeL2Error(Idata,Ihat)"
   ]
  },
  {
   "cell_type": "markdown",
   "id": "de438ac0-e344-4e50-904e-2d46fefb896c",
   "metadata": {},
   "source": [
    "We want E to be as small as possible, as a function of our input parameters in F and A.\n",
    "\n",
    "Exercise for Xinyi: Implement gradient descent assuming F and A contain all of our model parameters."
   ]
  },
  {
   "cell_type": "code",
   "execution_count": 27,
   "id": "4826be75-3325-45c9-a752-35547b44a531",
   "metadata": {},
   "outputs": [],
   "source": [
    "learningRate = 0.001\n",
    "\n",
    "def computeGradient(tI, tA, tF, tLearningRate) :\n",
    "    # return gradient of E w.r.t. elements of A and F\n",
    "    return np.zeros([KEndmembers,NPoints]), np.zeros([KEndmembers,MSpectra])\n",
    "\n",
    "def minimizeError(tI, tA, tF, tLearningRate, nEpochs) : \n",
    "    for i in range(nEpochs) :\n",
    "        dA, dF = computeGradient(tI, tA, tF, tLearningRate)\n",
    "        tA = tA - tLearningRate * dA\n",
    "        tF = tF - tLearningRate * dF"
   ]
  },
  {
   "cell_type": "markdown",
   "id": "980707e1-abbe-4ef9-babe-18b7b4c9a843",
   "metadata": {},
   "source": [
    "Down the road: We will implement an AdamOptimizer to do gradient descent for us. "
   ]
  },
  {
   "cell_type": "code",
   "execution_count": null,
   "id": "ed3c9e39-15cf-497b-bedc-fdd629c111d3",
   "metadata": {},
   "outputs": [],
   "source": []
  }
 ],
 "metadata": {
  "kernelspec": {
   "display_name": "Python 3 (ipykernel)",
   "language": "python",
   "name": "python3"
  },
  "language_info": {
   "codemirror_mode": {
    "name": "ipython",
    "version": 3
   },
   "file_extension": ".py",
   "mimetype": "text/x-python",
   "name": "python",
   "nbconvert_exporter": "python",
   "pygments_lexer": "ipython3",
   "version": "3.9.7"
  }
 },
 "nbformat": 4,
 "nbformat_minor": 5
}
