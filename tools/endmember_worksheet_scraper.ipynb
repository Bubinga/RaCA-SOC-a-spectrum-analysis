{
 "cells": [
  {
   "cell_type": "code",
   "execution_count": 110,
   "id": "017d769f-530f-46db-a954-df10ddc6b520",
   "metadata": {},
   "outputs": [],
   "source": [
    "import matplotlib.pyplot as plt\n",
    "import numpy as np\n",
    "import openpyxl"
   ]
  },
  {
   "cell_type": "markdown",
   "id": "efcb2085-ad1c-4c46-961e-f111545c91dc",
   "metadata": {},
   "source": [
    "### Scrape spectral data"
   ]
  },
  {
   "cell_type": "code",
   "execution_count": 111,
   "id": "374374f0-6aaa-4061-a588-d18599091bab",
   "metadata": {},
   "outputs": [],
   "source": [
    "dframe = openpyxl.load_workbook(\"../data/Mineral spectra with ASD.xlsx\")"
   ]
  },
  {
   "cell_type": "code",
   "execution_count": 112,
   "id": "4aec73e8-7b38-4791-b9e5-18083b604383",
   "metadata": {},
   "outputs": [],
   "source": [
    "endMemMap = {}\n",
    "\n",
    "for tendMem in dframe.sheetnames :    \n",
    "    endMem = tendMem.lower()\n",
    "    \n",
    "    if tendMem not in endMemMap :\n",
    "        endMemMap[endMem] = {}\n",
    "        endMemMap[endMem][\"ASD wavelength\"]  = []\n",
    "        endMemMap[endMem][\"ASD reflectance\"] = []\n",
    "    \n",
    "    for row in dframe[tendMem].iter_rows(2,dframe[tendMem].max_row):\n",
    "        endMemMap[endMem][\"ASD wavelength\"]  += [row[0].value]\n",
    "        endMemMap[endMem][\"ASD reflectance\"] += [row[1].value]"
   ]
  },
  {
   "cell_type": "code",
   "execution_count": 113,
   "id": "fe70ab64-edca-4525-87e0-c20aa41416f6",
   "metadata": {},
   "outputs": [],
   "source": [
    "dframe = openpyxl.load_workbook(\"../data/Mineral spectra with BECK.xlsx\")"
   ]
  },
  {
   "cell_type": "code",
   "execution_count": 114,
   "id": "8b103dc2-8af2-4b01-8314-e40f30ec2369",
   "metadata": {},
   "outputs": [],
   "source": [
    "for tendMem in dframe.sheetnames :\n",
    "    endMem = tendMem.lower()\n",
    "\n",
    "    if tendMem not in endMemMap :\n",
    "        endMemMap[endMem] = {}\n",
    "        endMemMap[endMem][\"BECK wavelength\"]  = []\n",
    "        endMemMap[endMem][\"BECK reflectance\"] = []\n",
    "        \n",
    "    if \"ASD wavelength\" in endMemMap[endMem] :\n",
    "        print(\"\\t - \",tendMem,\" has both BECK and ASD spectra.\")\n",
    "        \n",
    "    for row in dframe[tendMem].iter_rows(2,dframe[tendMem].max_row):\n",
    "        endMemMap[endMem][\"BECK wavelength\"]  += [row[0].value]\n",
    "        endMemMap[endMem][\"BECK reflectance\"] += [row[1].value]"
   ]
  },
  {
   "cell_type": "code",
   "execution_count": 115,
   "id": "e1d8e5e0-2dd5-42ce-87f6-111f256c0f63",
   "metadata": {},
   "outputs": [],
   "source": [
    "dframe    = openpyxl.load_workbook(\"../data/Mineral spectra with stated peaks.xlsx\")\n",
    "asdNames  = \"Calcite,Gibbsite,Goethite,Kaolinite,Montmorillonite\".split(',')\n",
    "beckNames = \"Ammonio-Smectite,Hematite,Illite\".split(',')"
   ]
  },
  {
   "cell_type": "code",
   "execution_count": 116,
   "id": "4c9d1dbb-c722-4303-a407-60d39d25d574",
   "metadata": {},
   "outputs": [],
   "source": [
    "for tendMem in dframe.sheetnames :\n",
    "    endMem = tendMem.lower()\n",
    "    \n",
    "    ttype = \"ASD\"\n",
    "    if tendMem in beckNames :\n",
    "        ttype = \"BECK\"\n",
    "            \n",
    "    if tendMem not in endMemMap :\n",
    "        endMemMap[endMem] = {}\n",
    "        endMemMap[endMem][ttype+\" wavelength\"]  = []\n",
    "        endMemMap[endMem][ttype+\" reflectance\"] = []\n",
    "    \n",
    "    if \"ASD wavelength\" in endMemMap[endMem] and \"BECK wavelength\" in endMemMap[endMem] :\n",
    "        print(\"\\t - \",tendMem,\" has both BECK and ASD spectra.\")\n",
    "        \n",
    "    for row in dframe[tendMem].iter_rows(2,dframe[tendMem].max_row):\n",
    "        endMemMap[endMem][ttype+\" wavelength\"]  += [row[0].value]\n",
    "        endMemMap[endMem][ttype+\" reflectance\"] += [row[1].value]"
   ]
  },
  {
   "cell_type": "code",
   "execution_count": 117,
   "id": "1641eaf7-f3a5-432e-ba46-0331926cf4d0",
   "metadata": {},
   "outputs": [
    {
     "data": {
      "text/plain": [
       "[<matplotlib.lines.Line2D at 0x7fea588776d0>]"
      ]
     },
     "execution_count": 117,
     "metadata": {},
     "output_type": "execute_result"
    },
    {
     "data": {
      "image/png": "[encoded data removed]",
      "text/plain": [
       "<Figure size 432x288 with 1 Axes>"
      ]
     },
     "metadata": {
      "needs_background": "light"
     },
     "output_type": "display_data"
    }
   ],
   "source": [
    "plt.plot(endMemMap[\"analcime\"][\"BECK wavelength\"],endMemMap[\"analcime\"][\"BECK reflectance\"])"
   ]
  },
  {
   "cell_type": "markdown",
   "id": "e975a680-e54c-4c6e-bc39-d5a83774b6a0",
   "metadata": {},
   "source": [
    "### Scrape size, density, and other data"
   ]
  },
  {
   "cell_type": "code",
   "execution_count": 124,
   "id": "fac7eb92-40eb-4b36-bbaa-dd97ed90edb0",
   "metadata": {},
   "outputs": [],
   "source": [
    "dframe = openpyxl.load_workbook(\"../data/Soil endmember mastersheet.xlsx\")"
   ]
  },
  {
   "cell_type": "markdown",
   "id": "4f4b9a20-87d3-47f1-a52c-5e3778b54f43",
   "metadata": {},
   "source": [
    "Get chemical formula data, absorption peaks, and USGS reference information:"
   ]
  },
  {
   "cell_type": "code",
   "execution_count": 125,
   "id": "26292bea-0753-40b0-8c55-35f816efebc0",
   "metadata": {},
   "outputs": [
    {
     "name": "stdout",
     "output_type": "stream",
     "text": [
      "\t - Key not in endmember map: pyrolusite\n",
      "\t - Key not in endmember map: chlorites\n",
      "\t - Key not in endmember map: hydroxyapatite\n",
      "\t - Key not in endmember map: chloroapatite\n",
      "\t - Key not in endmember map: fluoroapatite\n",
      "\t - Key not in endmember map: halloysite\n"
     ]
    }
   ],
   "source": [
    "for row in dframe[\"USGS_spectra\"].iter_rows(2,dframe[\"USGS_spectra\"].max_row):\n",
    "    if row[2].value is None : continue\n",
    "    tendMem = row[2].value\n",
    "    endMem = tendMem.lower()\n",
    "    \n",
    "    if endMem not in endMemMap :\n",
    "        print(\"\\t - Key not in endmember map:\",endMem)\n",
    "        continue\n",
    "        \n",
    "    endMemMap[endMem][\"Chemical formula\"] = row[3].value\n",
    "    endMemMap[endMem][\"Absorption peaks (nm)\"] = row[4].value\n",
    "    endMemMap[endMem][\"USGS Library Spectrum Title\"] = row[6].value\n",
    "    endMemMap[endMem][\"USGS Notes\"] = row[8].value"
   ]
  },
  {
   "cell_type": "markdown",
   "id": "e06e504a-df9f-4d59-bb11-71c056fb453d",
   "metadata": {},
   "source": [
    "Get mineral information:"
   ]
  },
  {
   "cell_type": "code",
   "execution_count": 126,
   "id": "9215838d-0adb-4c3d-973e-f928fc032ed6",
   "metadata": {},
   "outputs": [],
   "source": [
    "for row in dframe[\"Minerals\"].iter_rows(2,dframe[\"Minerals\"].max_row):\n",
    "    if row[1].value is None : continue\n",
    "    tendMem = row[1].value\n",
    "    endMem = tendMem.lower()\n",
    "    \n",
    "    if row[7].value != \"TRUE\" : continue\n",
    "    \n",
    "    if endMem not in endMemMap :\n",
    "        print(\"\\t - Mineral has USGS spectrum but is not in endmember map:\",endMem)\n",
    "        endMemMap[endMem] = {}\n",
    "        \n",
    "    if \"Chemical formula\" not in endMemMap[endMem] :\n",
    "        endMemMap[endMem][\"Chemical formula\"] = row[2].value\n",
    "    endMemMap[endMem][\"Mineral class\"] = row[3].value\n",
    "    if row[4].value is not None :\n",
    "        endMemMap[endMem][\"Silicate class\"] = row[4].value\n",
    "    if row[5].value is not None :\n",
    "        endMemMap[endMem][\"Silicate mineral subclass\"] = row[5].value\n",
    "    endMemMap[endMem][\"Mineral absorption peaks (nm)\"] = row[8].value\n",
    "    endMemMap[endMem][\"Mineral absorption widths (nm)\"] = row[9].value\n",
    "    endMemMap[endMem][\"Minerals Notes\"] = row[15].value"
   ]
  },
  {
   "cell_type": "markdown",
   "id": "c0647cc1-c232-4502-9cb7-7e285d542e34",
   "metadata": {},
   "source": [
    "Get mass densities and radii:"
   ]
  },
  {
   "cell_type": "code",
   "execution_count": 127,
   "id": "38294acf-0bbe-4ae2-9cb4-65fbb6564b28",
   "metadata": {},
   "outputs": [
    {
     "name": "stdout",
     "output_type": "stream",
     "text": [
      "\t - Mineral has no radius data: gibbsite\n",
      "\t - Mineral has no radius data: diaspore\n",
      "\t - Mineral has no radius data: corundum\n",
      "\t - Mineral has no radius data: forsterite\n",
      "\t - Mineral has no radius data: topaz\n",
      "\t - Mineral has no radius data: andalusite\n",
      "\t - Mineral has no radius data: staurolite\n",
      "\t - Mineral has no radius data: epidote\n",
      "\t - Mineral has no radius data: beryl\n",
      "\t - Mineral has no radius data: tourmaline\n",
      "\t - Mineral has no radius data: augite\n",
      "\t - Mineral has no radius data: enstatite\n",
      "\t - Mineral has no radius data: hypersthene\n",
      "\t - Mineral has no radius data: diopside\n",
      "\t - Mineral has no radius data: hedenbergite\n",
      "\t - Mineral has no radius data: wollastonite\n",
      "\t - Mineral has no radius data: rhodonite\n",
      "\t - Mineral has no radius data: hornblende\n",
      "\t - Mineral has no radius data: tremolite\n",
      "\t - Mineral has no radius data: actinolite\n",
      "\t - Mineral has no radius data: cummingtonite\n",
      "\t - Mineral has no radius data: muscovite\n",
      "\t - Mineral has no radius data: biotite\n",
      "\t - Mineral has no radius data: phlogopite\n",
      "\t - Mineral has no radius data: chlorite\n",
      "\t - Mineral has no radius data: talc\n",
      "\t - Mineral has no radius data: pyrophyllite\n",
      "\t - Mineral has no radius data: kaolinite\n",
      "\t - Mineral has no radius data: ammonio-smectite\n",
      "\t - Mineral has no density data: vermiculite\n",
      "\t - Mineral has no radius data: vermiculite\n",
      "\t - Mineral has no radius data: antigorite\n",
      "\t - Mineral has no radius data: chrysotile\n",
      "\t - Mineral has no radius data: orthoclase\n",
      "\t - Mineral has no radius data: albite\n",
      "\t - Mineral has no radius data: anorthite\n",
      "\t - Mineral has no radius data: quartz\n",
      "\t - Mineral has no radius data: nepheline\n",
      "\t - Mineral has no radius data: montmorillonite\n",
      "\t - Mineral has no radius data: illite\n",
      "\t - Mineral has no density data: illite\n",
      "\t - Mineral has no radius data: illite\n",
      "\t - Mineral has no radius data: almandine\n",
      "\t - Mineral has no radius data: andradite\n",
      "\t - Mineral has no radius data: grossular\n",
      "\t - Mineral has no radius data: spessartine\n",
      "\t - Mineral has no radius data: uvarovite\n",
      "\t - Mineral has no density data: beidellite\n",
      "\t - Mineral has no radius data: beidellite\n",
      "\t - Mineral has no density data: nontronite\n",
      "\t - Mineral has no radius data: nontronite\n",
      "\t - Mineral has no density data: hectorite\n",
      "\t - Mineral has no radius data: hectorite\n",
      "\t - Mineral has no density data: saponite\n",
      "\t - Mineral has no radius data: saponite\n",
      "\t - Mineral has no density data: microcline\n",
      "\t - Mineral has no radius data: microcline\n",
      "\t - Mineral has no density data: hydroxyl-apatite\n",
      "\t - Mineral has no radius data: hydroxyl-apatite\n",
      "\t - Mineral has no density data: chlorapatite\n",
      "\t - Mineral has no radius data: chlorapatite\n",
      "\t - Mineral has no density data: sepiolite\n",
      "\t - Mineral has no radius data: sepiolite\n",
      "\t - Mineral has no density data: psilomelane\n",
      "\t - Mineral has no radius data: psilomelane\n",
      "\t - Mineral has no density data: xenotime\n",
      "\t - Mineral has no radius data: xenotime\n",
      "\t - Mineral has no density data: monazite\n",
      "\t - Mineral has no radius data: monazite\n"
     ]
    }
   ],
   "source": [
    "for row in dframe[\"density_radius\"].iter_rows(2,dframe[\"density_radius\"].max_row):\n",
    "    if row[2].value is None : continue\n",
    "    tendMem = row[2].value\n",
    "    endMem = tendMem.lower()\n",
    "        \n",
    "    # for now, skip if not in the USGS spectrum list\n",
    "    if endMem not in endMemMap : \n",
    "        #print(\"\\t - Skipping mineral:\",endMem)\n",
    "        continue\n",
    "    \n",
    "    trho = row[7].value\n",
    "    trad = row[8].value\n",
    "    \n",
    "    if trho is None :\n",
    "        print(\"\\t - Mineral has no density data:\",endMem)\n",
    "        \n",
    "    if trad is None :\n",
    "        print(\"\\t - Mineral has no radius data:\",endMem)\n",
    "    \n",
    "    # calculate actual density from table entry\n",
    "    if isinstance(trho,float) : \n",
    "        rho = trho \n",
    "    elif trho is None : \n",
    "        rho = 2.0\n",
    "    else : np.mean(np.array([float(x) for x in trho.split('-')]))\n",
    "    \n",
    "    # calculate actual radius from table entry\n",
    "    if isinstance(trad,float) : \n",
    "        rad = trad\n",
    "    elif trad is None :\n",
    "        rad = 0.500\n",
    "    else :\n",
    "        rad = trad.split(',')[0]\n",
    "        rad = rad.split('*')\n",
    "        rad = [np.mean(np.array([float(x) for x in y.split('-')])) for y in rad]\n",
    "        rad = np.prod(np.array(rad))\n",
    "        rad = (rad * 3./4. / np.pi) ** (1./3.)\n",
    "    \n",
    "    # save data\n",
    "    endMemMap[endMem][\"Density (Mg/m^3)\"] = rho\n",
    "    endMemMap[endMem][\"Effective Radius (nm)\"] = rad    "
   ]
  },
  {
   "cell_type": "code",
   "execution_count": 130,
   "id": "0cade009-7039-4403-9585-121e59f9fd64",
   "metadata": {},
   "outputs": [],
   "source": [
    "#[x if \"Density (Mg/m^3)\" not in endMemMap[x] else endMemMap[x][\"Density (Mg/m^3)\"] for x in endMemMap.keys()]"
   ]
  },
  {
   "cell_type": "markdown",
   "id": "99329a73-94db-40f4-8b80-503fc7adbc15",
   "metadata": {},
   "source": [
    "Changes made to soil endmember mastersheet:\n",
    "\n",
    "- density_radius: \"chlorites -> chlorite\"\n",
    "- density_radius: \"hematite/haematite -> hematite\"\n",
    "- density_radius: \"smectite -> ammonio-smectite\"\n",
    "- density_radius: \"hydroxyapatite -> hydroxyl-apatite\"\n",
    "- density_radius: \"chloroapatite -> chlorapatite\"\n",
    "\n",
    "In ASD spectra: \n",
    "\n",
    "- Duplicate \"Magnesite+Hydromag\" and turn into two sheets, \"Magnesite\" and \"Hydromagnesite\""
   ]
  },
  {
   "cell_type": "code",
   "execution_count": 133,
   "id": "5693f02b-d2f3-4e29-8d09-3273f47f32ed",
   "metadata": {},
   "outputs": [],
   "source": [
    "import json\n",
    "with open('endmember spectral data.json', 'w', encoding='utf-8') as f:\n",
    "    json.dump(endMemMap, f, ensure_ascii=False, indent=4)"
   ]
  }
 ],
 "metadata": {
  "kernelspec": {
   "display_name": "Python 3 (ipykernel)",
   "language": "python",
   "name": "python3"
  },
  "language_info": {
   "codemirror_mode": {
    "name": "ipython",
    "version": 3
   },
   "file_extension": ".py",
   "mimetype": "text/x-python",
   "name": "python",
   "nbconvert_exporter": "python",
   "pygments_lexer": "ipython3",
   "version": "3.9.7"
  }
 },
 "nbformat": 4,
 "nbformat_minor": 5
}
